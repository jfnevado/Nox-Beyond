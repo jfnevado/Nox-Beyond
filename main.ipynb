{
 "cells": [
  {
   "cell_type": "code",
   "execution_count": 100,
   "metadata": {},
   "outputs": [],
   "source": [
    "import requests\n",
    "import numpy as np\n",
    "import pandas as pd\n",
    "from pycoingecko import CoinGeckoAPI "
   ]
  },
  {
   "cell_type": "code",
   "execution_count": 101,
   "metadata": {},
   "outputs": [],
   "source": [
    "apikey = 'RF78TKBA1N4KIBXYBYJZ8JT6T7XWAUTNV7'\n",
    "endpoint = \"https://api.snowtrace.io/api\"\n",
    "\n",
    "cg = CoinGeckoAPI()\n",
    "avax_price = cg.get_price(ids='avalanche-2', vs_currencies='usd')\n",
    "avax_price = avax_price['avalanche-2']['usd']\n",
    "\n",
    "\n",
    "daowallet = '0xEE576ebC6727D7Da876eDCd0429CdB48f69c3676'\n",
    "daowallet2 = '0x0B4F85B173FA22f69308fFDD00bc556E987002df'\n",
    "daostaked = '0x668530302c6ecc4ebe693ec877b79300ac72527c'\n",
    "\n",
    "solana = 'dYG8h8sMrJHwPRdjAv85JGpj2Z44XFnFcHmADpJQhgp'\n",
    "\n",
    "wei = 1000000000000000000"
   ]
  },
  {
   "cell_type": "code",
   "execution_count": 116,
   "metadata": {},
   "outputs": [],
   "source": [
    "def get_multi_balance(multi_address):\n",
    "    params = {\n",
    "        \"module\": \"account\",\n",
    "        \"action\": \"balancemulti\",\n",
    "        \"address\": multi_address,\n",
    "        \"tag\": \"latest\",\n",
    "        \"apikey\": apikey\n",
    "    }\n",
    "\n",
    "\n",
    "    response = requests.get(endpoint, params=params)\n",
    "\n",
    "\n",
    "    if response.status_code == 200:\n",
    "        transactions = response.json()[\"result\"]\n",
    "        return transactions\n",
    "    else:\n",
    "        return \"Request failed with status code:\", response.status_code\n",
    "\n",
    "def get_nfts(address, contract_address):\n",
    "    params = {\n",
    "        \"module\": \"account\",\n",
    "        \"action\": \"tokennfttx\",\n",
    "        \"contractaddress\": contract_address,\n",
    "        \"address\": address,\n",
    "        \"page\": \"1\",\n",
    "        \"offset\": \"100\",\n",
    "        \"startblock\": \"0\",\n",
    "        \"endblock\": \"99999999\",\n",
    "        \"sort\": \"asc\",\n",
    "        \"apikey\": apikey\n",
    "    }\n",
    "\n",
    "    response = requests.get(endpoint, params=params)\n",
    "\n",
    "    if response.status_code == 200:\n",
    "        data = response.json()[\"result\"]\n",
    "        print(data)\n",
    "    else:\n",
    "        return \"Request failed with status code:\", response.status_code\n",
    "        "
   ]
  },
  {
   "cell_type": "code",
   "execution_count": 117,
   "metadata": {},
   "outputs": [
    {
     "data": {
      "text/html": [
       "<div>\n",
       "<style scoped>\n",
       "    .dataframe tbody tr th:only-of-type {\n",
       "        vertical-align: middle;\n",
       "    }\n",
       "\n",
       "    .dataframe tbody tr th {\n",
       "        vertical-align: top;\n",
       "    }\n",
       "\n",
       "    .dataframe thead th {\n",
       "        text-align: right;\n",
       "    }\n",
       "</style>\n",
       "<table border=\"1\" class=\"dataframe\">\n",
       "  <thead>\n",
       "    <tr style=\"text-align: right;\">\n",
       "      <th></th>\n",
       "      <th>account</th>\n",
       "      <th>balance</th>\n",
       "    </tr>\n",
       "  </thead>\n",
       "  <tbody>\n",
       "    <tr>\n",
       "      <th>0</th>\n",
       "      <td>0xEE576ebC6727D7Da876eDCd0429CdB48f69c3676</td>\n",
       "      <td>627014954314272191286</td>\n",
       "    </tr>\n",
       "    <tr>\n",
       "      <th>1</th>\n",
       "      <td>0x0B4F85B173FA22f69308fFDD00bc556E987002df</td>\n",
       "      <td>595171108398898991</td>\n",
       "    </tr>\n",
       "    <tr>\n",
       "      <th>2</th>\n",
       "      <td>0x668530302c6ecc4ebe693ec877b79300ac72527c</td>\n",
       "      <td>0</td>\n",
       "    </tr>\n",
       "  </tbody>\n",
       "</table>\n",
       "</div>"
      ],
      "text/plain": [
       "                                      account                balance\n",
       "0  0xEE576ebC6727D7Da876eDCd0429CdB48f69c3676  627014954314272191286\n",
       "1  0x0B4F85B173FA22f69308fFDD00bc556E987002df     595171108398898991\n",
       "2  0x668530302c6ecc4ebe693ec877b79300ac72527c                      0"
      ]
     },
     "execution_count": 117,
     "metadata": {},
     "output_type": "execute_result"
    }
   ],
   "source": [
    "multi_address = daowallet,daowallet2,daostaked\n",
    "balance_wallets = get_multi_balance(multi_address)\n",
    "balance_wallets = pd.DataFrame(balance_wallets)\n",
    "balance_wallets\n"
   ]
  },
  {
   "cell_type": "code",
   "execution_count": 118,
   "metadata": {},
   "outputs": [
    {
     "data": {
      "text/html": [
       "<div>\n",
       "<style scoped>\n",
       "    .dataframe tbody tr th:only-of-type {\n",
       "        vertical-align: middle;\n",
       "    }\n",
       "\n",
       "    .dataframe tbody tr th {\n",
       "        vertical-align: top;\n",
       "    }\n",
       "\n",
       "    .dataframe thead th {\n",
       "        text-align: right;\n",
       "    }\n",
       "</style>\n",
       "<table border=\"1\" class=\"dataframe\">\n",
       "  <thead>\n",
       "    <tr style=\"text-align: right;\">\n",
       "      <th></th>\n",
       "      <th>account</th>\n",
       "      <th>balance</th>\n",
       "    </tr>\n",
       "  </thead>\n",
       "  <tbody>\n",
       "    <tr>\n",
       "      <th>0</th>\n",
       "      <td>0xEE576ebC6727D7Da876eDCd0429CdB48f69c3676</td>\n",
       "      <td>627.014954</td>\n",
       "    </tr>\n",
       "    <tr>\n",
       "      <th>1</th>\n",
       "      <td>0x0B4F85B173FA22f69308fFDD00bc556E987002df</td>\n",
       "      <td>0.595171</td>\n",
       "    </tr>\n",
       "    <tr>\n",
       "      <th>2</th>\n",
       "      <td>0x668530302c6ecc4ebe693ec877b79300ac72527c</td>\n",
       "      <td>0.000000</td>\n",
       "    </tr>\n",
       "  </tbody>\n",
       "</table>\n",
       "</div>"
      ],
      "text/plain": [
       "                                      account     balance\n",
       "0  0xEE576ebC6727D7Da876eDCd0429CdB48f69c3676  627.014954\n",
       "1  0x0B4F85B173FA22f69308fFDD00bc556E987002df    0.595171\n",
       "2  0x668530302c6ecc4ebe693ec877b79300ac72527c    0.000000"
      ]
     },
     "execution_count": 118,
     "metadata": {},
     "output_type": "execute_result"
    }
   ],
   "source": [
    "balance_wallets['balance'] = balance_wallets['balance'].astype(np.float64)\n",
    "balance_wallets['balance'] = balance_wallets['balance']/wei\n",
    "balance_wallets"
   ]
  },
  {
   "cell_type": "code",
   "execution_count": 119,
   "metadata": {},
   "outputs": [],
   "source": [
    "balance_wallets.rename(columns={'balance':'balance_avax'}, inplace=True)"
   ]
  },
  {
   "cell_type": "code",
   "execution_count": 120,
   "metadata": {},
   "outputs": [
    {
     "data": {
      "text/html": [
       "<div>\n",
       "<style scoped>\n",
       "    .dataframe tbody tr th:only-of-type {\n",
       "        vertical-align: middle;\n",
       "    }\n",
       "\n",
       "    .dataframe tbody tr th {\n",
       "        vertical-align: top;\n",
       "    }\n",
       "\n",
       "    .dataframe thead th {\n",
       "        text-align: right;\n",
       "    }\n",
       "</style>\n",
       "<table border=\"1\" class=\"dataframe\">\n",
       "  <thead>\n",
       "    <tr style=\"text-align: right;\">\n",
       "      <th></th>\n",
       "      <th>account</th>\n",
       "      <th>balance_avax</th>\n",
       "      <th>balance_usd</th>\n",
       "    </tr>\n",
       "  </thead>\n",
       "  <tbody>\n",
       "    <tr>\n",
       "      <th>0</th>\n",
       "      <td>0xEE576ebC6727D7Da876eDCd0429CdB48f69c3676</td>\n",
       "      <td>627.01</td>\n",
       "      <td>11223.57</td>\n",
       "    </tr>\n",
       "    <tr>\n",
       "      <th>1</th>\n",
       "      <td>0x0B4F85B173FA22f69308fFDD00bc556E987002df</td>\n",
       "      <td>0.60</td>\n",
       "      <td>10.65</td>\n",
       "    </tr>\n",
       "    <tr>\n",
       "      <th>2</th>\n",
       "      <td>0x668530302c6ecc4ebe693ec877b79300ac72527c</td>\n",
       "      <td>0.00</td>\n",
       "      <td>0.00</td>\n",
       "    </tr>\n",
       "  </tbody>\n",
       "</table>\n",
       "</div>"
      ],
      "text/plain": [
       "                                      account  balance_avax  balance_usd\n",
       "0  0xEE576ebC6727D7Da876eDCd0429CdB48f69c3676        627.01     11223.57\n",
       "1  0x0B4F85B173FA22f69308fFDD00bc556E987002df          0.60        10.65\n",
       "2  0x668530302c6ecc4ebe693ec877b79300ac72527c          0.00         0.00"
      ]
     },
     "execution_count": 120,
     "metadata": {},
     "output_type": "execute_result"
    }
   ],
   "source": [
    "balance_wallets['balance_usd'] = balance_wallets['balance_avax'] * avax_price\n",
    "balance_wallets['balance_avax'] = balance_wallets['balance_avax'].apply(lambda x: round(x, 2))\n",
    "balance_wallets['balance_usd'] = balance_wallets['balance_usd'].apply(lambda x: round(x, 2))\n",
    "balance_wallets"
   ]
  },
  {
   "cell_type": "code",
   "execution_count": 123,
   "metadata": {},
   "outputs": [
    {
     "name": "stdout",
     "output_type": "stream",
     "text": [
      "[{'blockNumber': '25744486', 'timeStamp': '1675356377', 'hash': '0xa850690e806e73757f01c375ae42ec4f81cc8883657895e594e19ae49c48c16b', 'nonce': '5', 'blockHash': '0xe9c32a8be95cfea55c98b89ed20b5cf071fedb385d4fd1ed6daf70b1d6d59038', 'from': '0xe8ed6d2d57647724f9b3afda1d302a52bb1e2468', 'contractAddress': '0x942a02e5ec8fc3d066da8f97a9553736369494a1', 'to': '0xee576ebc6727d7da876edcd0429cdb48f69c3676', 'tokenID': '4883', 'tokenName': 'Chad Doge Supers', 'tokenSymbol': 'CD Supers', 'tokenDecimal': '0', 'transactionIndex': '2', 'gas': '152317', 'gasPrice': '26500000000', 'gasUsed': '151821', 'cumulativeGasUsed': '585196', 'input': 'deprecated', 'confirmations': '313211'}, {'blockNumber': '25744486', 'timeStamp': '1675356377', 'hash': '0xa850690e806e73757f01c375ae42ec4f81cc8883657895e594e19ae49c48c16b', 'nonce': '5', 'blockHash': '0xe9c32a8be95cfea55c98b89ed20b5cf071fedb385d4fd1ed6daf70b1d6d59038', 'from': '0xe8ed6d2d57647724f9b3afda1d302a52bb1e2468', 'contractAddress': '0x942a02e5ec8fc3d066da8f97a9553736369494a1', 'to': '0xee576ebc6727d7da876edcd0429cdb48f69c3676', 'tokenID': '4882', 'tokenName': 'Chad Doge Supers', 'tokenSymbol': 'CD Supers', 'tokenDecimal': '0', 'transactionIndex': '2', 'gas': '152317', 'gasPrice': '26500000000', 'gasUsed': '151821', 'cumulativeGasUsed': '585196', 'input': 'deprecated', 'confirmations': '313211'}]\n"
     ]
    }
   ],
   "source": [
    "nfts = get_nfts('0xEE576ebC6727D7Da876eDCd0429CdB48f69c3676', '0x942A02e5ec8FC3d066DA8F97A9553736369494A1')\n"
   ]
  },
  {
   "cell_type": "code",
   "execution_count": 127,
   "metadata": {},
   "outputs": [
    {
     "name": "stdout",
     "output_type": "stream",
     "text": [
      "Empty DataFrame\n",
      "Columns: []\n",
      "Index: []\n"
     ]
    }
   ],
   "source": [
    "print(pd.DataFrame(nfts))\n"
   ]
  },
  {
   "cell_type": "code",
   "execution_count": 131,
   "metadata": {},
   "outputs": [
    {
     "name": "stdout",
     "output_type": "stream",
     "text": [
      "[{'blockNumber': '25744486', 'timeStamp': '1675356377', 'hash': '0xa850690e806e73757f01c375ae42ec4f81cc8883657895e594e19ae49c48c16b', 'nonce': '5', 'blockHash': '0xe9c32a8be95cfea55c98b89ed20b5cf071fedb385d4fd1ed6daf70b1d6d59038', 'from': '0xe8ed6d2d57647724f9b3afda1d302a52bb1e2468', 'contractAddress': '0x942a02e5ec8fc3d066da8f97a9553736369494a1', 'to': '0xee576ebc6727d7da876edcd0429cdb48f69c3676', 'tokenID': '4883', 'tokenName': 'Chad Doge Supers', 'tokenSymbol': 'CD Supers', 'tokenDecimal': '0', 'transactionIndex': '2', 'gas': '152317', 'gasPrice': '26500000000', 'gasUsed': '151821', 'cumulativeGasUsed': '585196', 'input': 'deprecated', 'confirmations': '313325'}, {'blockNumber': '25744486', 'timeStamp': '1675356377', 'hash': '0xa850690e806e73757f01c375ae42ec4f81cc8883657895e594e19ae49c48c16b', 'nonce': '5', 'blockHash': '0xe9c32a8be95cfea55c98b89ed20b5cf071fedb385d4fd1ed6daf70b1d6d59038', 'from': '0xe8ed6d2d57647724f9b3afda1d302a52bb1e2468', 'contractAddress': '0x942a02e5ec8fc3d066da8f97a9553736369494a1', 'to': '0xee576ebc6727d7da876edcd0429cdb48f69c3676', 'tokenID': '4882', 'tokenName': 'Chad Doge Supers', 'tokenSymbol': 'CD Supers', 'tokenDecimal': '0', 'transactionIndex': '2', 'gas': '152317', 'gasPrice': '26500000000', 'gasUsed': '151821', 'cumulativeGasUsed': '585196', 'input': 'deprecated', 'confirmations': '313325'}]\n"
     ]
    },
    {
     "data": {
      "text/html": [
       "<div>\n",
       "<style scoped>\n",
       "    .dataframe tbody tr th:only-of-type {\n",
       "        vertical-align: middle;\n",
       "    }\n",
       "\n",
       "    .dataframe tbody tr th {\n",
       "        vertical-align: top;\n",
       "    }\n",
       "\n",
       "    .dataframe thead th {\n",
       "        text-align: right;\n",
       "    }\n",
       "</style>\n",
       "<table border=\"1\" class=\"dataframe\">\n",
       "  <thead>\n",
       "    <tr style=\"text-align: right;\">\n",
       "      <th></th>\n",
       "    </tr>\n",
       "  </thead>\n",
       "  <tbody>\n",
       "  </tbody>\n",
       "</table>\n",
       "</div>"
      ],
      "text/plain": [
       "Empty DataFrame\n",
       "Columns: []\n",
       "Index: []"
      ]
     },
     "execution_count": 131,
     "metadata": {},
     "output_type": "execute_result"
    }
   ],
   "source": [
    "df = get_nfts('0xEE576ebC6727D7Da876eDCd0429CdB48f69c3676', '0x942A02e5ec8FC3d066DA8F97A9553736369494A1')\n",
    "df = pd.DataFrame(df)\n",
    "df\n"
   ]
  },
  {
   "cell_type": "code",
   "execution_count": 132,
   "metadata": {},
   "outputs": [
    {
     "name": "stdout",
     "output_type": "stream",
     "text": [
      "[{'blockNumber': '25744486', 'timeStamp': '1675356377', 'hash': '0xa850690e806e73757f01c375ae42ec4f81cc8883657895e594e19ae49c48c16b', 'nonce': '5', 'blockHash': '0xe9c32a8be95cfea55c98b89ed20b5cf071fedb385d4fd1ed6daf70b1d6d59038', 'from': '0xe8ed6d2d57647724f9b3afda1d302a52bb1e2468', 'contractAddress': '0x942a02e5ec8fc3d066da8f97a9553736369494a1', 'to': '0xee576ebc6727d7da876edcd0429cdb48f69c3676', 'tokenID': '4883', 'tokenName': 'Chad Doge Supers', 'tokenSymbol': 'CD Supers', 'tokenDecimal': '0', 'transactionIndex': '2', 'gas': '152317', 'gasPrice': '26500000000', 'gasUsed': '151821', 'cumulativeGasUsed': '585196', 'input': 'deprecated', 'confirmations': '313352'}, {'blockNumber': '25744486', 'timeStamp': '1675356377', 'hash': '0xa850690e806e73757f01c375ae42ec4f81cc8883657895e594e19ae49c48c16b', 'nonce': '5', 'blockHash': '0xe9c32a8be95cfea55c98b89ed20b5cf071fedb385d4fd1ed6daf70b1d6d59038', 'from': '0xe8ed6d2d57647724f9b3afda1d302a52bb1e2468', 'contractAddress': '0x942a02e5ec8fc3d066da8f97a9553736369494a1', 'to': '0xee576ebc6727d7da876edcd0429cdb48f69c3676', 'tokenID': '4882', 'tokenName': 'Chad Doge Supers', 'tokenSymbol': 'CD Supers', 'tokenDecimal': '0', 'transactionIndex': '2', 'gas': '152317', 'gasPrice': '26500000000', 'gasUsed': '151821', 'cumulativeGasUsed': '585196', 'input': 'deprecated', 'confirmations': '313352'}]\n",
      "None\n"
     ]
    }
   ],
   "source": [
    "print(get_nfts('0xEE576ebC6727D7Da876eDCd0429CdB48f69c3676', '0x942A02e5ec8FC3d066DA8F97A9553736369494A1'))"
   ]
  },
  {
   "cell_type": "code",
   "execution_count": 134,
   "metadata": {},
   "outputs": [
    {
     "name": "stdout",
     "output_type": "stream",
     "text": [
      "[{'blockNumber': '25744486', 'timeStamp': '1675356377', 'hash': '0xa850690e806e73757f01c375ae42ec4f81cc8883657895e594e19ae49c48c16b', 'nonce': '5', 'blockHash': '0xe9c32a8be95cfea55c98b89ed20b5cf071fedb385d4fd1ed6daf70b1d6d59038', 'from': '0xe8ed6d2d57647724f9b3afda1d302a52bb1e2468', 'contractAddress': '0x942a02e5ec8fc3d066da8f97a9553736369494a1', 'to': '0xee576ebc6727d7da876edcd0429cdb48f69c3676', 'tokenID': '4883', 'tokenName': 'Chad Doge Supers', 'tokenSymbol': 'CD Supers', 'tokenDecimal': '0', 'transactionIndex': '2', 'gas': '152317', 'gasPrice': '26500000000', 'gasUsed': '151821', 'cumulativeGasUsed': '585196', 'input': 'deprecated', 'confirmations': '313380'}, {'blockNumber': '25744486', 'timeStamp': '1675356377', 'hash': '0xa850690e806e73757f01c375ae42ec4f81cc8883657895e594e19ae49c48c16b', 'nonce': '5', 'blockHash': '0xe9c32a8be95cfea55c98b89ed20b5cf071fedb385d4fd1ed6daf70b1d6d59038', 'from': '0xe8ed6d2d57647724f9b3afda1d302a52bb1e2468', 'contractAddress': '0x942a02e5ec8fc3d066da8f97a9553736369494a1', 'to': '0xee576ebc6727d7da876edcd0429cdb48f69c3676', 'tokenID': '4882', 'tokenName': 'Chad Doge Supers', 'tokenSymbol': 'CD Supers', 'tokenDecimal': '0', 'transactionIndex': '2', 'gas': '152317', 'gasPrice': '26500000000', 'gasUsed': '151821', 'cumulativeGasUsed': '585196', 'input': 'deprecated', 'confirmations': '313380'}]\n",
      "Empty DataFrame\n",
      "Columns: []\n",
      "Index: []\n"
     ]
    }
   ],
   "source": [
    "nfts = get_nfts('0xEE576ebC6727D7Da876eDCd0429CdB48f69c3676', '0x942A02e5ec8FC3d066DA8F97A9553736369494A1')\n",
    "df = pd.DataFrame(nfts)\n",
    "print(df)"
   ]
  },
  {
   "cell_type": "code",
   "execution_count": null,
   "metadata": {},
   "outputs": [],
   "source": []
  }
 ],
 "metadata": {
  "kernelspec": {
   "display_name": "venv",
   "language": "python",
   "name": "python3"
  },
  "language_info": {
   "codemirror_mode": {
    "name": "ipython",
    "version": 3
   },
   "file_extension": ".py",
   "mimetype": "text/x-python",
   "name": "python",
   "nbconvert_exporter": "python",
   "pygments_lexer": "ipython3",
   "version": "3.9.13"
  },
  "orig_nbformat": 4,
  "vscode": {
   "interpreter": {
    "hash": "c13f766f7b3361f9297401bcb7989981d5d3a9f3e9244dd14aa41fcb902931b3"
   }
  }
 },
 "nbformat": 4,
 "nbformat_minor": 2
}
